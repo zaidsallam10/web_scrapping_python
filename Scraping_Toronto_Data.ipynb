{
  "nbformat": 4,
  "nbformat_minor": 0,
  "metadata": {
    "colab": {
      "name": "Scraping Toronto Data.ipynb",
      "provenance": [],
      "collapsed_sections": [],
      "authorship_tag": "ABX9TyMIHioOif2aFi26zdZnew9P",
      "include_colab_link": true
    },
    "kernelspec": {
      "name": "python3",
      "display_name": "Python 3"
    }
  },
  "cells": [
    {
      "cell_type": "markdown",
      "metadata": {
        "id": "view-in-github",
        "colab_type": "text"
      },
      "source": [
        "<a href=\"https://colab.research.google.com/github/zaidsallam10/web_scrapping_python/blob/master/Scraping_Toronto_Data.ipynb\" target=\"_parent\"><img src=\"https://colab.research.google.com/assets/colab-badge.svg\" alt=\"Open In Colab\"/></a>"
      ]
    },
    {
      "cell_type": "markdown",
      "metadata": {
        "id": "DSzsVTpGe8wh",
        "colab_type": "text"
      },
      "source": [
        "***`Scraping the wikipedia`***"
      ]
    },
    {
      "cell_type": "code",
      "metadata": {
        "id": "65KFH-QJHFe-",
        "colab_type": "code",
        "colab": {}
      },
      "source": [
        "# !pip install beautifulsoup4\n",
        "import requests \n",
        "from bs4 import BeautifulSoup \n",
        "import pandas as pd\n",
        "\n",
        "URL = \"https://en.wikipedia.org/wiki/List_of_postal_codes_of_Canada:_M\"\n",
        "r = requests.get(URL) \n",
        "soup = BeautifulSoup(r.content, 'html5lib') \n",
        "table = soup.find('tbody')\n",
        "table_rows = table.find_all('tr')\n",
        "\n",
        "\n",
        "res = []\n",
        "for tr in table_rows:\n",
        "    td = tr.find_all('td')\n",
        "    row = [tr.text.strip() for tr in td if tr.text.strip()]\n",
        "    if row:\n",
        "        res.append(row)\n",
        "\n",
        "\n",
        "\n",
        "\n",
        "\n",
        "\n",
        "\n"
      ],
      "execution_count": 0,
      "outputs": []
    },
    {
      "cell_type": "markdown",
      "metadata": {
        "id": "6aykSjOsfUg2",
        "colab_type": "text"
      },
      "source": [
        "***Only process the cells that have an assigned borough. Ignore cells with a borough that is Not assigned***"
      ]
    },
    {
      "cell_type": "code",
      "metadata": {
        "id": "mFpzah1GfXmX",
        "colab_type": "code",
        "colab": {}
      },
      "source": [
        "assignedBorough=[row for row in res if row[1]!='Not assigned']\n"
      ],
      "execution_count": 0,
      "outputs": []
    },
    {
      "cell_type": "markdown",
      "metadata": {
        "id": "R8TZYIO4fjUN",
        "colab_type": "text"
      },
      "source": [
        "More than one neighborhood can exist in one postal code area. For example, in the table on the Wikipedia page, you will notice that M5A is listed twice and has two neighborhoods: Harbourfront and Regent Park. These two rows will be combined into one row with the neighborhoods separated with a comma as shown in row 11 in the above table.\n",
        "If a cell has a borough but a Not assigned neighborhood, then the neighborhood will be the same as the borough. So for the 9th cell in the table on the Wikipedia page, the value of the Borough and the Neighborhood columns will be Queen's Park.\n",
        "***bold text***"
      ]
    },
    {
      "cell_type": "code",
      "metadata": {
        "id": "lZyHy62BfrQS",
        "colab_type": "code",
        "colab": {}
      },
      "source": [
        "matchNotAssignedNeighboardToBorough=[]\n",
        "for obj in assignedBorough:\n",
        "  if obj[2]=='Not assigned':\n",
        "    obj[2]=obj[1]\n",
        "  matchNotAssignedNeighboardToBorough.append(obj)\n",
        "\n"
      ],
      "execution_count": 0,
      "outputs": []
    },
    {
      "cell_type": "markdown",
      "metadata": {
        "id": "gSPpHkewf0dx",
        "colab_type": "text"
      },
      "source": [
        "Shape Method And DataFrame"
      ]
    },
    {
      "cell_type": "code",
      "metadata": {
        "id": "qIBa1d9Hf5Rv",
        "colab_type": "code",
        "outputId": "b705013c-eec3-4eeb-84e0-bc9271a5288e",
        "colab": {
          "base_uri": "https://localhost:8080/",
          "height": 35
        }
      },
      "source": [
        "dataFrame=pd.DataFrame([obj for obj in matchNotAssignedNeighboardToBorough])\n",
        "dataFrame\n",
        "dataFrame.shape"
      ],
      "execution_count": 0,
      "outputs": [
        {
          "output_type": "execute_result",
          "data": {
            "text/plain": [
              "(210, 3)"
            ]
          },
          "metadata": {
            "tags": []
          },
          "execution_count": 95
        }
      ]
    }
  ]
}